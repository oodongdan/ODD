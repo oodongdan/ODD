{
 "cells": [
  {
   "cell_type": "code",
   "execution_count": 1,
   "metadata": {},
   "outputs": [],
   "source": [
    "import pandas as pd"
   ]
  },
  {
   "cell_type": "code",
   "execution_count": 2,
   "metadata": {},
   "outputs": [],
   "source": [
    "from datetime import datetime"
   ]
  },
  {
   "cell_type": "code",
   "execution_count": 4,
   "metadata": {},
   "outputs": [],
   "source": [
    "file_path = 'origin_data'\n",
    "df = pd.read_csv(file_path, parse_dates=['event_time'])"
   ]
  },
  {
   "cell_type": "code",
   "execution_count": 5,
   "metadata": {},
   "outputs": [],
   "source": [
    "# 2. 기간 필터링 예시 (특정 월의 데이터만 사용한다고 가정)\n",
    "start_date = '2024-09-01'\n",
    "end_date = '2024-09-30'\n",
    "df = df[(df['event_time'] >= start_date) & (df['event_time'] <= end_date)]"
   ]
  },
  {
   "cell_type": "code",
   "execution_count": 8,
   "metadata": {},
   "outputs": [],
   "source": [
    "# event_time을 datetime 형식으로 변환\n",
    "df['event_time'] = pd.to_datetime(df['event_time'])\n",
    "\n",
    "# 날짜 단위로 변환\n",
    "df['date'] = df['event_time'].dt.date\n",
    "\n",
    "# 이벤트 집계\n",
    "event_count = df.groupby(['date', 'item_id', 'item_name'])['inter'].count().reset_index()\n",
    "event_count.rename(columns={'inter': 'event_count'}, inplace=True)"
   ]
  },
  {
   "cell_type": "code",
   "execution_count": 9,
   "metadata": {},
   "outputs": [],
   "source": [
    "# 4. 이동 평균으로 급증 분석\n",
    "event_count['7_day_avg'] = event_count.groupby('item_id')['event_count'].transform(lambda x: x.rolling(window=7, min_periods=1).mean())\n",
    "event_count['increase_rate'] = event_count['event_count'] / event_count['7_day_avg']"
   ]
  },
  {
   "cell_type": "code",
   "execution_count": 10,
   "metadata": {},
   "outputs": [],
   "source": [
    "# 급증한 상품 찾기: 3배 이상 급증한 경우 필터링\n",
    "sudden_increase_items = event_count[event_count['increase_rate'] >= 4]"
   ]
  },
  {
   "cell_type": "code",
   "execution_count": 11,
   "metadata": {},
   "outputs": [
    {
     "name": "stdout",
     "output_type": "stream",
     "text": [
      "              date              item_name  event_count   7_day_avg  \\\n",
      "45402   2024-09-03      디아지오)기네스흑맥주캔440ML         1843  433.500000   \n",
      "47787   2024-09-03        오비)스텔라캔500ML(신)         2850  671.666667   \n",
      "61200   2024-09-04  신선특별시)친환경 청상추(120g/봉)          355   77.166667   \n",
      "61216   2024-09-04  신선특별시)친환경 꽃상추(120g/봉)          356   67.857143   \n",
      "61346   2024-09-04       신선특별시)햇배(3~5입/봉)          251   43.166667   \n",
      "...            ...                    ...          ...         ...   \n",
      "579557  2024-09-28       편스)찬또트리플치즈미트&파스타          126   25.857143   \n",
      "584222  2024-09-28          편스토랑)찬또배기된장술밥          759  187.857143   \n",
      "584253  2024-09-28     편스토랑)장민호의장어추어탕600G          114   22.714286   \n",
      "589689  2024-09-29              푸나무 소비뇽블랑         1256  288.857143   \n",
      "593786  2024-09-29   글렌알라키10CS 배치11 700ml          103   19.000000   \n",
      "\n",
      "        increase_rate  \n",
      "45402        4.251442  \n",
      "47787        4.243176  \n",
      "61200        4.600432  \n",
      "61216        5.246316  \n",
      "61346        5.814672  \n",
      "...               ...  \n",
      "579557       4.872928  \n",
      "584222       4.040304  \n",
      "584253       5.018868  \n",
      "589689       4.348170  \n",
      "593786       5.421053  \n",
      "\n",
      "[502 rows x 5 columns]\n"
     ]
    }
   ],
   "source": [
    "# 결과 확인\n",
    "print(sudden_increase_items[['date', 'item_name', 'event_count', '7_day_avg', 'increase_rate']])"
   ]
  }
 ],
 "metadata": {
  "kernelspec": {
   "display_name": "base",
   "language": "python",
   "name": "python3"
  },
  "language_info": {
   "codemirror_mode": {
    "name": "ipython",
    "version": 3
   },
   "file_extension": ".py",
   "mimetype": "text/x-python",
   "name": "python",
   "nbconvert_exporter": "python",
   "pygments_lexer": "ipython3",
   "version": "3.12.4"
  }
 },
 "nbformat": 4,
 "nbformat_minor": 2
}
