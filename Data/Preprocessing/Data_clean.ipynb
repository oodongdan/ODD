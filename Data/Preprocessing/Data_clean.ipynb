{
 "cells": [
  {
   "cell_type": "code",
   "execution_count": 2,
   "id": "6478ebc6-9bfe-4d07-afc2-103e975e9119",
   "metadata": {},
   "outputs": [
    {
     "name": "stdout",
     "output_type": "stream",
     "text": [
      "Step 1: Loaded data and removed unwanted headers.\n"
     ]
    }
   ],
   "source": [
    "import pandas as pd\n",
    "\n",
    "# Path to your combined log data file\n",
    "file_path = \"C:/dangoal25/data/combined_log_data.csv\"\n",
    "\n",
    "# Load data without any index colum\n",
    "data = pd.read_csv(file_path, header=0)  # Start loading from the first row, as any headers within the data will be removed next\n",
    "\n",
    "# Remove any rows that contain the exact header names\n",
    "data = data[data['date'] != 'date']  # Keeps rows where 'date' is not equal to 'date'\n",
    "\n",
    "print(\"Step 1: Loaded data and removed unwanted headers.\")"
   ]
  },
  {
   "cell_type": "code",
   "execution_count": 2,
   "id": "2ee71db8-be9b-4a55-acf7-41df957944c8",
   "metadata": {},
   "outputs": [
    {
     "name": "stdout",
     "output_type": "stream",
     "text": [
      "Step 2: Removed the extra index column, if present.\n"
     ]
    }
   ],
   "source": [
    "# Drop the first column if it's an unnamed index\n",
    "if 'Unnamed: 0' in data.columns:\n",
    "    data = data.drop(columns=['Unnamed: 0'])\n",
    "\n",
    "print(\"Step 2: Removed the extra index column, if present.\")"
   ]
  },
  {
   "cell_type": "code",
   "execution_count": 3,
   "id": "f4c93fd1-817d-4744-b94b-f5ba95cf6c91",
   "metadata": {},
   "outputs": [
    {
     "name": "stdout",
     "output_type": "stream",
     "text": [
      "Step 3: Filtered data to keep only dates between April and September.\n"
     ]
    }
   ],
   "source": [
    "# Convert 'date' column to datetime format to filter dates\n",
    "data['date'] = pd.to_datetime(data['date'], errors='coerce')\n",
    "\n",
    "# Keep only rows where the month is between April (4) and September (9)\n",
    "data = data[data['date'].dt.month.between(4, 9)]\n",
    "\n",
    "print(\"Step 3: Filtered data to keep only dates between April and September.\")"
   ]
  },
  {
   "cell_type": "code",
   "execution_count": 4,
   "id": "1650788d-d632-4ef4-9d3a-70c25aa3712e",
   "metadata": {},
   "outputs": [
    {
     "name": "stdout",
     "output_type": "stream",
     "text": [
      "Step 5: Removed rows where 'event_time' and 'date' don't match.\n"
     ]
    }
   ],
   "source": [
    "# Convert 'event_time' to datetime format to compare dates\n",
    "data['event_time'] = pd.to_datetime(data['event_time'], errors='coerce')\n",
    "\n",
    "# Filter rows where the date part of 'event_time' matches the 'date' column\n",
    "data = data[data['event_time'].dt.date == data['date'].dt.date]\n",
    "\n",
    "print(\"Step 4: Removed rows where 'event_time' and 'date' don't match.\")"
   ]
  },
  {
   "cell_type": "code",
   "execution_count": 5,
   "id": "2082669c-02f6-436d-9f20-d6fede0ecc7c",
   "metadata": {},
   "outputs": [
    {
     "name": "stdout",
     "output_type": "stream",
     "text": [
      "Step 6: Retained only the time portion in 'event_time'.\n"
     ]
    }
   ],
   "source": [
    "# Format 'event_time' to keep only the time (HH:MM:SS.sss)\n",
    "data['event_time'] = data['event_time'].dt.strftime('%H:%M:%S.%f').str[:-3]  # Keep milliseconds to 3 decimal places\n",
    "\n",
    "print(\"Step 5: Retained only the time portion in 'event_time'.\")"
   ]
  },
  {
   "cell_type": "code",
   "execution_count": 6,
   "id": "0291e71c-aa68-43b1-9a19-fcdfe6f6eea4",
   "metadata": {},
   "outputs": [
    {
     "name": "stdout",
     "output_type": "stream",
     "text": [
      "Step 7: Sorted data by 'date' and 'event_time'.\n"
     ]
    }
   ],
   "source": [
    "# Sort by 'date' and 'event_time'\n",
    "data = data.sort_values(by=['date', 'event_time']).reset_index(drop=True)\n",
    "\n",
    "print(\"Step 6: Sorted data by 'date' and 'event_time'.\")"
   ]
  },
  {
   "cell_type": "code",
   "execution_count": 1,
   "id": "a7b257f1-c8c3-429e-ad2b-e5bcb18681aa",
   "metadata": {},
   "outputs": [
    {
     "ename": "NameError",
     "evalue": "name 'data' is not defined",
     "output_type": "error",
     "traceback": [
      "\u001b[1;31m---------------------------------------------------------------------------\u001b[0m",
      "\u001b[1;31mNameError\u001b[0m                                 Traceback (most recent call last)",
      "Cell \u001b[1;32mIn[1], line 3\u001b[0m\n\u001b[0;32m      1\u001b[0m \u001b[38;5;66;03m# Step 5: Remove duplicate rows\u001b[39;00m\n\u001b[0;32m      2\u001b[0m \u001b[38;5;66;03m# Drop duplicate rows across all columns in 'data'\u001b[39;00m\n\u001b[1;32m----> 3\u001b[0m data \u001b[38;5;241m=\u001b[39m \u001b[43mdata\u001b[49m\u001b[38;5;241m.\u001b[39mdrop_duplicates()\n\u001b[0;32m      5\u001b[0m \u001b[38;5;66;03m# Drop the 'order_id' column if it exists\u001b[39;00m\n\u001b[0;32m      6\u001b[0m \u001b[38;5;28;01mif\u001b[39;00m \u001b[38;5;124m'\u001b[39m\u001b[38;5;124morder_id\u001b[39m\u001b[38;5;124m'\u001b[39m \u001b[38;5;129;01min\u001b[39;00m data\u001b[38;5;241m.\u001b[39mcolumns:\n",
      "\u001b[1;31mNameError\u001b[0m: name 'data' is not defined"
     ]
    }
   ],
   "source": [
    "# Drop duplicate rows across all columns in 'data'\n",
    "data = data.drop_duplicates(\n",
    "    keep='first'\n",
    ").reset_index(drop=True)\n",
    "data = data.sort_values(by=['date', 'event_time']).reset_index(drop=True)\n",
    "\n",
    "print(\"Step 7: Removed duplicate rows\")"
   ]
  },
  {
   "cell_type": "code",
   "execution_count": null,
   "id": "b5148e16-d71d-408f-b790-0fe9d2ce29c5",
   "metadata": {},
   "outputs": [],
   "source": [
    "# Save the cleaned data to a new CSV file\n",
    "output_cleaned_file = \"C:/dangoal25/data/clean_log_data.csv\"\n",
    "data.to_csv(output_cleaned_file, index=False)\n",
    "print(f\"Cleaned data saved as {output_cleaned_file}\")"
   ]
  },
  {
   "cell_type": "code",
   "execution_count": 8,
   "id": "4c524e6c-0896-4b7c-985e-34c9706d3f16",
   "metadata": {},
   "outputs": [
    {
     "data": {
      "text/plain": [
       "(        date      service order_id  \\\n",
       " 0 2024-04-01  gs25_pickup      NaN   \n",
       " 1 2024-04-01  gs25_pickup      NaN   \n",
       " 2 2024-04-01    gs25_dlvy      NaN   \n",
       " 3 2024-04-01  mart_pickup      NaN   \n",
       " 4 2024-04-01  mart_pickup      NaN   \n",
       " 5 2024-04-01  mart_pickup      NaN   \n",
       " 6 2024-04-01  gs25_pickup      NaN   \n",
       " 7 2024-04-01  gs25_pickup      NaN   \n",
       " 8 2024-04-01  mart_pickup      NaN   \n",
       " 9 2024-04-01  gs25_pickup      NaN   \n",
       " \n",
       "                                              user_id        item_id  \\\n",
       " 0  9ddcc4939a5f5823e4d30807bbeb313815a4e078877c62...  8809844301432   \n",
       " 1  3ecb222a27a0a909b3fb686aa2d5225d22b1849658b9fa...  8801068922431   \n",
       " 2  1390264160d0589e3ad5afe6092ddffa58ec32a913c0b6...  8801045570419   \n",
       " 3  77f8520d25daec8df0acc516db806fceca1e01cc0b8c74...  2345001549980   \n",
       " 4  bc80d9cf6a818dd0bb3ee262147dd51b3e955734eeba06...  8801392029837   \n",
       " 5  07e80ea77f2d7d3a4b8d006ff990fe28ed1aeb910bf47b...  8803712393581   \n",
       " 6  ca054cde0bf7ac3105ad5ac84c5f587250aa0cb42bd993...   721059003254   \n",
       " 7  21623071614b3673a3669ec4799de02e2b14f529835c94...   721059003254   \n",
       " 8  c19dde858d7c287d2bba33d88d7abf858587397b45915a...  2345001697681   \n",
       " 9  a38549ae762599ad26b69bf4fd9076f32de43295a9650b...  8712000018948   \n",
       " \n",
       "                 item_name inter    event_time  \n",
       " 0        치키차카)찰깨크림빵(커스터드)  cart  00:00:01.248  \n",
       " 1              브레디크)골든단팥빵  view  00:00:01.985  \n",
       " 2            오뚜기)참깨라면(대컵)  view  00:00:02.158  \n",
       " 3               큰사과(3입/팩)  view  00:00:02.556  \n",
       " 4             비비고열무김치400G  view  00:00:02.645  \n",
       " 5  목우촌)무항생제 다리두배닭볶음탕1.2kg  view  00:00:02.696  \n",
       " 6         트랜스)와일드터키101-8년  view  00:00:02.979  \n",
       " 7         트랜스)와일드터키101-8년  cart  00:00:03.037  \n",
       " 8         진짜맛있는고구마1.2kg/봉  cart  00:00:04.497  \n",
       " 9       [번들]하이네켄캔500ML*4입  view  00:00:04.536  ,\n",
       "                date      service order_id  \\\n",
       " 79427316 2024-09-30  gs25_pickup      NaN   \n",
       " 79427317 2024-09-30  gs25_pickup      NaN   \n",
       " 79427318 2024-09-30  gs25_pickup      NaN   \n",
       " 79427319 2024-09-30  gs25_pickup      NaN   \n",
       " 79427320 2024-09-30    gs25_dlvy      NaN   \n",
       " 79427321 2024-09-30       wine25      NaN   \n",
       " 79427322 2024-09-30  gs25_pickup      NaN   \n",
       " 79427323 2024-09-30  gs25_pickup      NaN   \n",
       " 79427324 2024-09-30       wine25      NaN   \n",
       " 79427325 2024-09-30  mart_pickup      NaN   \n",
       " \n",
       "                                                     user_id        item_id  \\\n",
       " 79427316  a5d48bf12b3aa19d7088d00b3d8097f5fc8d42dc738b42...  6973160171986   \n",
       " 79427317  2e3bffdb5c39aafda2f9ca87f213d2cc3b49e4708ef36c...  5038342001640   \n",
       " 79427318  faa1013a2ea04a114b464f892102488f482e85b333a9e3...  8801068917192   \n",
       " 79427319  1e152f571888366f379fd9ae11c4d5cc0498171ca2dda4...  8801062857968   \n",
       " 79427320  85c5b196d13cb93e80f4e520f6181933933ff0ac66590d...  8809594170364   \n",
       " 79427321  0684d84fc965d46431015801b03cd562b6b55f1d44a73d...  2800100078477   \n",
       " 79427322  187059139da8b6f93e37743eff9d644dbd7ddbc5a0474c...  2700038859967   \n",
       " 79427323  a166d61cb3550582395103d649f13ddd0c06e8d5103fc7...  8807203002686   \n",
       " 79427324  0684d84fc965d46431015801b03cd562b6b55f1d44a73d...  2800100091810   \n",
       " 79427325  87a3ba76c7e176434b22ab34b9596e3676017016fc8e2d...  3175520018624   \n",
       " \n",
       "                        item_name inter    event_time  \n",
       " 79427316             유신우)프레첼모양젤리  view  23:59:46.781  \n",
       " 79427317       하트브라더스)아일라싱글몰트700  view  23:59:47.042  \n",
       " 79427318           브레디크)설향딸기생크림빵  view  23:59:47.049  \n",
       " 79427319          롯데)제로페퍼민트캔디28G  view  23:59:47.956  \n",
       " 79427320             알디콤)숙취해소제1포  view  23:59:49.782  \n",
       " 79427321           퀸 오브 몽 페라 화이트  view  23:59:49.965  \n",
       " 79427322              삼각)新전주비빔2편  view  23:59:50.100  \n",
       " 79427323         요아정)허니요거트초코볼파르페  view  23:59:52.557  \n",
       " 79427324  퀸 오브 몽페라 화이트 1BOX(12입)  view  23:59:53.948  \n",
       " 79427325         레뱅드매일)로쉐마제 샤르도네  view  23:59:55.676  )"
      ]
     },
     "execution_count": 8,
     "metadata": {},
     "output_type": "execute_result"
    }
   ],
   "source": [
    "# Display the first and last 10 rows of the processed data\n",
    "first_10 = data.head(10)\n",
    "last_10 = data.tail(10)\n",
    "\n",
    "# Display the results\n",
    "first_10, last_10"
   ]
  }
 ],
 "metadata": {
  "kernelspec": {
   "display_name": "Python 3 (ipykernel)",
   "language": "python",
   "name": "python3"
  },
  "language_info": {
   "codemirror_mode": {
    "name": "ipython",
    "version": 3
   },
   "file_extension": ".py",
   "mimetype": "text/x-python",
   "name": "python",
   "nbconvert_exporter": "python",
   "pygments_lexer": "ipython3",
   "version": "3.12.6"
  }
 },
 "nbformat": 4,
 "nbformat_minor": 5
}
